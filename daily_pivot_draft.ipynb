{
 "cells": [
  {
   "cell_type": "code",
   "execution_count": 1,
   "id": "a50a8f70",
   "metadata": {},
   "outputs": [],
   "source": [
    "#Подгрузка необходимых библиотек\n",
    "\n",
    "import pandas as pd\n",
    "import numpy as np\n",
    "from google.oauth2.service_account import Credentials"
   ]
  },
  {
   "cell_type": "code",
   "execution_count": null,
   "id": "e9e85044",
   "metadata": {},
   "outputs": [],
   "source": [
    "#Подгрузка raw-data через excel уменьшает вероятность шума данных, они максимально сходятся с ежемесячными ручными сверками партнеров"
   ]
  },
  {
   "cell_type": "code",
   "execution_count": 2,
   "id": "2732ccd7",
   "metadata": {},
   "outputs": [],
   "source": [
    "#Подгрузка raw-data Appsflyer по FTD с файла Excel по iOS-устройствам по привлеченному трафику, внести адрес загрузки CSV\n",
    "\n",
    "df_ios = pd.read_csv (r\"C:\\.csv\")\n",
    "prod_cols = {'Media Source': 'count'}\n",
    "\n",
    "#Перевод в datetime времени ивента и времени аттрибуции массива  данных\n",
    "\n",
    "event_time = pd.to_datetime(df_ios['Event Time']).dt.date\n",
    "install_time = pd.to_datetime(df_ios['Install Time']).dt.date\n",
    "date30 = np.int64(30)\n",
    "\n",
    "#Выполнение условия по разнице времени ивента и времени инсталла — не должна превышать 30 дней включительно\n",
    "\n",
    "df_ios['Is_true?'] = (event_time - install_time).dt.days - date30\n",
    "data_final_ios = df_ios.drop(df_ios[df_ios['Is_true?'] >= 0].index)\n",
    "\n",
    "#Составление pivot-table\n",
    "\n",
    "pivot_ios_ftd = pd.pivot_table(data_final_ios, index = ['Partner', 'Media Source'], columns=event_time, aggfunc=prod_cols)"
   ]
  },
  {
   "cell_type": "code",
   "execution_count": 3,
   "id": "422d3920",
   "metadata": {},
   "outputs": [],
   "source": [
    "#Подгрузка raw-data Appsflyer по FTD с файла Excel по Android-устройствам по привлеченному трафику, внести адрес загрузки CSV\n",
    "\n",
    "df_android = pd.read_csv (r\"C:\\\")\n",
    "prod_cols = {'Media Source': 'count'}\n",
    "\n",
    "#Перевод в datetime времени ивента и времени аттрибуции массива  данных\n",
    "\n",
    "event_time = pd.to_datetime(df_android['Event Time']).dt.date\n",
    "install_time = pd.to_datetime(df_android['Install Time']).dt.date\n",
    "date30 = np.int64(30)\n",
    "\n",
    "#Выполнение условия по разнице времени ивента и времени инсталла — не должна превышать 30 дней включительно\n",
    "\n",
    "df_android['Is_true?'] = (event_time - install_time).dt.days - date30\n",
    "data_final_android = df_android.drop(df_android[df_android['Is_true?'] > 0].index)\n",
    "\n",
    "#Составление pivot-table\n",
    "\n",
    "pivot_and_ftd = pd.pivot_table(data_final_android, index = ['Partner', 'Media Source'], columns=event_time, aggfunc=prod_cols)"
   ]
  },
  {
   "cell_type": "code",
   "execution_count": 4,
   "id": "bc8fda9d",
   "metadata": {},
   "outputs": [],
   "source": [
    "#Подгрузка кредов для работы с DataLocker, внести свое название \n",
    "\n",
    "creds = Credentials.from_service_account_file('cred-name.json')"
   ]
  },
  {
   "cell_type": "code",
   "execution_count": 5,
   "id": "8dc1ff42",
   "metadata": {},
   "outputs": [],
   "source": [
    "#Выполнение SQL-запроса по необходимому Workspace, install-time меняется 1 раз в месяц\n",
    "\n",
    "sql = \"\"\"\n",
    "SELECT *\n",
    "FROM `SQL-workspace-installs`\n",
    "WHERE install_time >= '2023-07-01' AND af_prt IS NOT NULL \n",
    "\"\"\""
   ]
  },
  {
   "cell_type": "code",
   "execution_count": 6,
   "id": "08c95156",
   "metadata": {},
   "outputs": [],
   "source": [
    "#В project_id подставить необходимое \n",
    "\n",
    "df_installs = pd.read_gbq(sql,\n",
    "                project_id='datalake',\n",
    "                credentials=creds)"
   ]
  },
  {
   "cell_type": "code",
   "execution_count": 7,
   "id": "f2daff9a",
   "metadata": {},
   "outputs": [],
   "source": [
    "#Перевод в datetime времени ивента и времени аттрибуции массива данных установок\n",
    "\n",
    "prod_cols = {'af_prt': 'count'}\n",
    "event_time = pd.to_datetime(df_installs['event_time']).dt.date\n",
    "install_time = pd.to_datetime(df_installs['install_time']).dt.date\n",
    "date30 = np.int64(30)"
   ]
  },
  {
   "cell_type": "code",
   "execution_count": 8,
   "id": "f591f11d",
   "metadata": {},
   "outputs": [],
   "source": [
    "ins_platform_ios = df_installs.loc[(df_installs['platform'] == 'ios')]\n",
    "ins_platform_android = df_installs.loc[(df_installs['platform'] == 'android')]"
   ]
  },
  {
   "cell_type": "code",
   "execution_count": 9,
   "id": "dac0813c",
   "metadata": {},
   "outputs": [],
   "source": [
    "#Составление Power-pivot по установкам\n",
    "\n",
    "pivot_ios_ins = pd.pivot_table(ins_platform_ios, index = ['af_prt', 'media_source'], columns=event_time, aggfunc=prod_cols)\n",
    "pivot_and_ins = pd.pivot_table(ins_platform_android, index = ['af_prt', 'media_source'], columns=event_time, aggfunc=prod_cols)"
   ]
  },
  {
   "cell_type": "code",
   "execution_count": 10,
   "id": "9d30534e",
   "metadata": {},
   "outputs": [],
   "source": [
    "#Выгрузка готовой эксели с разбивкой по iOS / Android\n",
    "\n",
    "with pd.ExcelWriter('xlsx\\pivot_daily_stat_jul.xlsx') as writer:  \n",
    "    pivot_ios_ins.to_excel(writer, sheet_name='iOS installs')\n",
    "    pivot_ios_ftd.to_excel(writer, sheet_name='iOS FTD')\n",
    "    pivot_and_ins.to_excel(writer, sheet_name='Android installs')\n",
    "    pivot_and_ftd.to_excel(writer, sheet_name='Android FTD')"
   ]
  },
  {
   "cell_type": "code",
   "execution_count": null,
   "id": "a214603c",
   "metadata": {},
   "outputs": [],
   "source": []
  }
 ],
 "metadata": {
  "kernelspec": {
   "display_name": "Python 3 (ipykernel)",
   "language": "python",
   "name": "python3"
  },
  "language_info": {
   "codemirror_mode": {
    "name": "ipython",
    "version": 3
   },
   "file_extension": ".py",
   "mimetype": "text/x-python",
   "name": "python",
   "nbconvert_exporter": "python",
   "pygments_lexer": "ipython3",
   "version": "3.9.13"
  }
 },
 "nbformat": 4,
 "nbformat_minor": 5
}
